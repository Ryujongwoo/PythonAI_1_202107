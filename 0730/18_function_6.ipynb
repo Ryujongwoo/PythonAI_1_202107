{
 "cells": [
  {
   "cell_type": "code",
   "execution_count": 5,
   "id": "8aaf03a9",
   "metadata": {},
   "outputs": [],
   "source": [
    "# 데이터를 인수로 넘겨받아 딕셔너리를 만들어 리턴하는 함수\n",
    "# 데이터를 넘겨받아 딕셔너리로 처리하는 인수는 앞에 '**'을 붙여서 선언한다.\n",
    "def func7(**args):\n",
    "    # print(type(args)) # <class 'dict'>\n",
    "    # print(args)\n",
    "    return args"
   ]
  },
  {
   "cell_type": "code",
   "execution_count": 6,
   "id": "caf5335a",
   "metadata": {},
   "outputs": [
    {
     "name": "stdout",
     "output_type": "stream",
     "text": [
      "{'name': '홍길동'}\n"
     ]
    }
   ],
   "source": [
    "# 앞에 '**'를 붙여서 딕셔너리로 만들 데이터를 받는 인수는 key = value 형태의 데이터를 넘겨줘야 한다.\n",
    "print(func7(name = '홍길동'))"
   ]
  },
  {
   "cell_type": "code",
   "execution_count": null,
   "id": "ad764eb6",
   "metadata": {},
   "outputs": [],
   "source": []
  }
 ],
 "metadata": {
  "kernelspec": {
   "display_name": "Python 3 (ipykernel)",
   "language": "python",
   "name": "python3"
  },
  "language_info": {
   "codemirror_mode": {
    "name": "ipython",
    "version": 3
   },
   "file_extension": ".py",
   "mimetype": "text/x-python",
   "name": "python",
   "nbconvert_exporter": "python",
   "pygments_lexer": "ipython3",
   "version": "3.9.6"
  }
 },
 "nbformat": 4,
 "nbformat_minor": 5
}
