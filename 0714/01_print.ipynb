{
 "cells": [
  {
   "cell_type": "code",
   "execution_count": 20,
   "id": "b02080af",
   "metadata": {},
   "outputs": [],
   "source": [
    "# '#'으로 시작하면 1줄 주석을 의미한다. => 컴파일러(번역)나 인터프리터(통역, 대화형)가 번역하지 않는다. => 프로그램 실행과\n",
    "# 아무런 상관이 없다. => 설명\n",
    "# 알아두면 유용한 jupyter notebook 단축키\n",
    "# ctrl + enter => 프로그램 실행, 프로그램을 실행한 셀에 커서가 위치한다.\n",
    "# shift + enter => 프로그램 실행, 프로그램을 실행하고 커서가 다음 셀로 이동한다.\n",
    "# 셀 선택 상태에서 a를 누르면 선택된 셀 앞에 빈 셀이 삽입된다.\n",
    "# 셀 선택 상태에서 b를 누르면 선택된 셀 뒤에 빈 셀이 삽입된다.\n",
    "# 셀 선택 상태에서 dd를 누르면 선택된 셀이 삭제된다. => 삭제한 셀은 복구할 수 없다.\n",
    "# tab 키가 자동완성 키로 사용된다."
   ]
  },
  {
   "cell_type": "code",
   "execution_count": 27,
   "id": "93939c9d",
   "metadata": {},
   "outputs": [
    {
     "name": "stdout",
     "output_type": "stream",
     "text": [
      "Hello Python\n",
      "안녕 파이썬\n",
      "제2외국어를 배운 호랑이가 \"야옹\" 했습니다.\n",
      "제2외국어를 배운 고양이가 '어흥' 했습니다.\n",
      "제2외국어를 배운 호랑이가 '야옹' 했습니다.\n",
      "제2외국어를 배운 고양이가 \"어흥\" 했습니다.\n"
     ]
    }
   ],
   "source": [
    "# print() 함수는 ()안의 데이터를 출력하고 줄을 바꾼다.\n",
    "# 파이썬은 문자열 데이터를 표현할 때 데이터를 따옴표로 묶어준다. => 큰따옴표와 작은따옴표를 구분하지 않는다.\n",
    "print('Hello Python')\n",
    "print(\"안녕 파이썬\")\n",
    "print('제2외국어를 배운 호랑이가 \"야옹\" 했습니다.')\n",
    "print(\"제2외국어를 배운 고양이가 '어흥' 했습니다.\")\n",
    "print('제2외국어를 배운 호랑이가 \\'야옹\\' 했습니다.')\n",
    "print(\"제2외국어를 배운 고양이가 \\\"어흥\\\" 했습니다.\")"
   ]
  },
  {
   "cell_type": "code",
   "execution_count": 34,
   "id": "8ea48886",
   "metadata": {},
   "outputs": [
    {
     "name": "stdout",
     "output_type": "stream",
     "text": [
      "Hello Python 안녕 \n",
      "파이썬\n"
     ]
    }
   ],
   "source": [
    "# print() 함수로 출력 후 줄을 변경하지 않으려면 end 옵션을 사용하면 된다.\n",
    "# end 옵현은 print() 함수로 ()안의 내용을 출력한 후 출력할 내용을 지정한다. => end 옵션을 생략하면 end='\\n'이 기본값으로\n",
    "# 사용된다.\n",
    "# \\n => new line => 줄바꿈\n",
    "# print('Hello Python')와 print('Hello Python', end='\\n')는 같은 표현이다.\n",
    "print('Hello Python', end=' ')\n",
    "print(\"안녕 \\n파이썬\")"
   ]
  },
  {
   "cell_type": "code",
   "execution_count": 37,
   "id": "465e8792",
   "metadata": {},
   "outputs": [
    {
     "name": "stdout",
     "output_type": "stream",
     "text": [
      "Hello Python 안녕 파이썬\n",
      "Hello Python 안녕 파이썬\n",
      "Hello Python~(^^~)안녕 파이썬\n"
     ]
    }
   ],
   "source": [
    "# print() 함수로 2개 이상의 데이터를 출력하려면 ','로 데이터를 구분하면 된다.\n",
    "print('Hello Python', \"안녕 파이썬\")\n",
    "# ','로 데이터를 구분하면 sep 옵션으로 지정한 내용이 데이터와 데이터 사이에 삽입되서 출력된다. => sep 옵션을 생략하면 공백이\n",
    "# 기본값으로 사용된다.\n",
    "# print('Hello Python', \"안녕 파이썬\")와 print('Hello Python', \"안녕 파이썬\", sep=' ')는 같은 표현이다.\n",
    "print('Hello Python', \"안녕 파이썬\", sep=' ')\n",
    "print('Hello Python', \"안녕 파이썬\", sep='~(^^~)')"
   ]
  },
  {
   "cell_type": "code",
   "execution_count": 41,
   "id": "1bb100cb",
   "metadata": {},
   "outputs": [
    {
     "name": "stdout",
     "output_type": "stream",
     "text": [
      "8\n",
      "AB\n"
     ]
    },
    {
     "ename": "TypeError",
     "evalue": "unsupported operand type(s) for +: 'int' and 'str'",
     "output_type": "error",
     "traceback": [
      "\u001b[1;31m---------------------------------------------------------------------------\u001b[0m",
      "\u001b[1;31mTypeError\u001b[0m                                 Traceback (most recent call last)",
      "\u001b[1;32mC:\\Users\\Public\\Documents\\ESTsoft\\CreatorTemp/ipykernel_14716/933559509.py\u001b[0m in \u001b[0;36m<module>\u001b[1;34m\u001b[0m\n\u001b[0;32m      4\u001b[0m \u001b[0mprint\u001b[0m\u001b[1;33m(\u001b[0m\u001b[1;36m5\u001b[0m \u001b[1;33m+\u001b[0m \u001b[1;36m3\u001b[0m\u001b[1;33m)\u001b[0m\u001b[1;33m\u001b[0m\u001b[1;33m\u001b[0m\u001b[0m\n\u001b[0;32m      5\u001b[0m \u001b[0mprint\u001b[0m\u001b[1;33m(\u001b[0m\u001b[1;34m'A'\u001b[0m \u001b[1;33m+\u001b[0m \u001b[1;34m'B'\u001b[0m\u001b[1;33m)\u001b[0m\u001b[1;33m\u001b[0m\u001b[1;33m\u001b[0m\u001b[0m\n\u001b[1;32m----> 6\u001b[1;33m \u001b[0mprint\u001b[0m\u001b[1;33m(\u001b[0m\u001b[1;36m3\u001b[0m \u001b[1;33m+\u001b[0m \u001b[1;34m'A'\u001b[0m\u001b[1;33m)\u001b[0m\u001b[1;33m\u001b[0m\u001b[1;33m\u001b[0m\u001b[0m\n\u001b[0m",
      "\u001b[1;31mTypeError\u001b[0m: unsupported operand type(s) for +: 'int' and 'str'"
     ]
    }
   ],
   "source": [
    "# print() 함수로 2개의 문자열을 연결해서 출력하려면 '+' 연산자를 사용한다.\n",
    "# '+' 연산자가 숫자와 숫자 사이에서 사용되면 뎃셈이 실행되지만 문자열과 문자열 사이에서 사용되면 2개의 문자열을 연결하는\n",
    "# 연결 연산자로 사용된다. => 숫자와 문자열 또는 문자열과 숫자 사이에서 사용하면 에러가 발생된다.\n",
    "print(5 + 3)\n",
    "print('A' + 'B')\n",
    "print(3 + 'A')"
   ]
  },
  {
   "cell_type": "code",
   "execution_count": 44,
   "id": "507fbe33",
   "metadata": {},
   "outputs": [
    {
     "name": "stdout",
     "output_type": "stream",
     "text": [
      "================================================================================\n",
      "~(^^!)~(^^!)~(^^!)~(^^!)~(^^!)~(^^!)~(^^!)~(^^!)~(^^!)~(^^!)\n"
     ]
    }
   ],
   "source": [
    "# print() 함수로 특정 문자열을 지정한 개수만큼 반복해서 출력하려면 '*' 연산자를 사용한다.\n",
    "print('=' * 80)\n",
    "print('~(^^!)' * 10)"
   ]
  },
  {
   "cell_type": "code",
   "execution_count": null,
   "id": "d99b6da2",
   "metadata": {},
   "outputs": [],
   "source": []
  },
  {
   "cell_type": "code",
   "execution_count": null,
   "id": "52a1e064",
   "metadata": {},
   "outputs": [],
   "source": []
  },
  {
   "cell_type": "code",
   "execution_count": null,
   "id": "357774c3",
   "metadata": {},
   "outputs": [],
   "source": []
  },
  {
   "cell_type": "code",
   "execution_count": null,
   "id": "7ab935e5",
   "metadata": {},
   "outputs": [],
   "source": []
  },
  {
   "cell_type": "code",
   "execution_count": null,
   "id": "1a756a8a",
   "metadata": {},
   "outputs": [],
   "source": []
  }
 ],
 "metadata": {
  "kernelspec": {
   "display_name": "Python 3 (ipykernel)",
   "language": "python",
   "name": "python3"
  },
  "language_info": {
   "codemirror_mode": {
    "name": "ipython",
    "version": 3
   },
   "file_extension": ".py",
   "mimetype": "text/x-python",
   "name": "python",
   "nbconvert_exporter": "python",
   "pygments_lexer": "ipython3",
   "version": "3.9.6"
  }
 },
 "nbformat": 4,
 "nbformat_minor": 5
}
