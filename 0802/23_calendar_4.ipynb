{
 "cells": [
  {
   "cell_type": "code",
   "execution_count": null,
   "id": "70ed66df",
   "metadata": {},
   "outputs": [],
   "source": [
    "# import된 모듈의 특정 함수만 import 시켜서 사용하려면 아래와 같이 import 시키면 된다.\n",
    "# from 모듈이름 import 함수이름 => from 다음에 지정한 모듈의 모든 함수를 import 시키지 않고 지정한 함수만 import 된다.\n",
    "# 이와 같이 import 시키면 함수 이름 앞에 모듈 이름을 쓰지 않아도 된다.\n",
    "# from calendarModule import weekDay # calendarModule 이라는 모듈의 weekDay() 함수만 import 시킨다.\n",
    "# from calendarModule import lastDay # calendarModule 이라는 모듈의 lastDay() 함수만 import 시킨다."
   ]
  },
  {
   "cell_type": "code",
   "execution_count": null,
   "id": "3264ea53",
   "metadata": {},
   "outputs": [],
   "source": [
    "# 위 2문장에서 import 시키는 함수 weekDay(), lastDay()는 모두 calendarModule 모듈의 함수이므로 아래와 같이 사용할 수 있다.\n",
    "# from calendarModule import weekDay, lastDay"
   ]
  },
  {
   "cell_type": "code",
   "execution_count": 1,
   "id": "4acea97a",
   "metadata": {},
   "outputs": [],
   "source": [
    "# 아래와 같이 코딩하면 calendarModule 모듈의 모든 ㅎ마수를 import 시켜서 사용할 수 있다.\n",
    "from calendarModule import *"
   ]
  },
  {
   "cell_type": "code",
   "execution_count": 2,
   "id": "03034165",
   "metadata": {},
   "outputs": [
    {
     "name": "stdout",
     "output_type": "stream",
     "text": [
      "달력을 출력할 년, 월을 입력하세요: 2021 8\n",
      "============================\n",
      "         2021년 8월\n",
      "============================\n",
      " 일  월  화  수  목  금  토 \n",
      "============================\n",
      "  1   2   3   4   5   6   7 \n",
      "  8   9  10  11  12  13  14 \n",
      " 15  16  17  18  19  20  21 \n",
      " 22  23  24  25  26  27  28 \n",
      " 29  30  31 \n",
      "============================\n"
     ]
    }
   ],
   "source": [
    "year, month = map(int, input('달력을 출력할 년, 월을 입력하세요: ').split())\n",
    "\n",
    "print('=' * 28)\n",
    "print('         {0:4d}년{1:2d}월'.format(year, month))\n",
    "print('=' * 28)\n",
    "print(' 일  월  화  수  목  금  토 ')\n",
    "print('=' * 28)\n",
    "\n",
    "for i in range(weekDay(year, month, 1)):\n",
    "    print('    ', end='')\n",
    "\n",
    "for i in range(1, lastDay(year, month) + 1):\n",
    "    print(' {0:2d} '.format(i), end='')\n",
    "    if weekDay(year, month, i) == 6 and i != lastDay(year, month):\n",
    "        print()\n",
    "print('\\n' + '=' * 28)"
   ]
  },
  {
   "cell_type": "code",
   "execution_count": null,
   "id": "0a4cd752",
   "metadata": {},
   "outputs": [],
   "source": [
    "import calendarModule\n",
    "# 특정 모듈에 포함된 함수를 보고싶다면 모듈을 import 시킨 후 dir() 함수를 실행하면 볼 수 있다.\n",
    "dir(calendarModule)"
   ]
  },
  {
   "cell_type": "code",
   "execution_count": null,
   "id": "e648e5e3",
   "metadata": {},
   "outputs": [],
   "source": [
    "# help() 함수를 실행하면 모듈에서 함수 작성시 입력한 주석(도움말)을 볼 수 있다.\n",
    "help(calendarModule)"
   ]
  },
  {
   "cell_type": "code",
   "execution_count": null,
   "id": "b010f894",
   "metadata": {},
   "outputs": [],
   "source": []
  },
  {
   "cell_type": "code",
   "execution_count": null,
   "id": "1d620444",
   "metadata": {},
   "outputs": [],
   "source": []
  }
 ],
 "metadata": {
  "kernelspec": {
   "display_name": "Python 3 (ipykernel)",
   "language": "python",
   "name": "python3"
  },
  "language_info": {
   "codemirror_mode": {
    "name": "ipython",
    "version": 3
   },
   "file_extension": ".py",
   "mimetype": "text/x-python",
   "name": "python",
   "nbconvert_exporter": "python",
   "pygments_lexer": "ipython3",
   "version": "3.9.6"
  }
 },
 "nbformat": 4,
 "nbformat_minor": 5
}
