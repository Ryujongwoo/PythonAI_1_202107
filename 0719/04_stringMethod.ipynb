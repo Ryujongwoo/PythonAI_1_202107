{
 "cells": [
  {
   "cell_type": "code",
   "execution_count": 13,
   "id": "d85b32e9",
   "metadata": {},
   "outputs": [
    {
     "name": "stdout",
     "output_type": "stream",
     "text": [
      "33\n",
      "!\n",
      "!\n",
      "!\n"
     ]
    }
   ],
   "source": [
    "string = 'We are the champions, My friends!'\n",
    "# len() 함수는 문자열을 구성하는 문자의 개수를 얻어온다.\n",
    "print(len(string))\n",
    "print(string[-1])\n",
    "print(string[len(string) - 1])"
   ]
  },
  {
   "cell_type": "code",
   "execution_count": 9,
   "id": "b0344d18",
   "metadata": {},
   "outputs": [
    {
     "name": "stdout",
     "output_type": "stream",
     "text": [
      "4\n",
      "1\n",
      "0\n"
     ]
    }
   ],
   "source": [
    "string = 'We are the champions, My friends!'\n",
    "# count() 메소드는 인수로 지정된 문자열의 출현 횟수를 얻어온다.\n",
    "# count() 메소드는 인수로 지정된 문자열이 특정 문자열에 포함되어있나 알 수 있다. => 결과가 1이상이면 포함, 0이면 불포함\n",
    "# count() 메소드의 실행 결과가 2이상이라면 중복되는 데이터가 포함되어있다는 의미로 사용할 수 있다.\n",
    "print(string.count('e'))\n",
    "print(string.count('We'))\n",
    "print(string.count('we'))"
   ]
  },
  {
   "cell_type": "code",
   "execution_count": 11,
   "id": "cb350fd5",
   "metadata": {},
   "outputs": [
    {
     "name": "stdout",
     "output_type": "stream",
     "text": [
      "1\n",
      "0\n"
     ]
    },
    {
     "ename": "ValueError",
     "evalue": "substring not found",
     "output_type": "error",
     "traceback": [
      "\u001b[1;31m---------------------------------------------------------------------------\u001b[0m",
      "\u001b[1;31mValueError\u001b[0m                                Traceback (most recent call last)",
      "\u001b[1;32mC:\\Users\\Public\\Documents\\ESTsoft\\CreatorTemp/ipykernel_6900/400616665.py\u001b[0m in \u001b[0;36m<module>\u001b[1;34m\u001b[0m\n\u001b[0;32m      5\u001b[0m \u001b[0mprint\u001b[0m\u001b[1;33m(\u001b[0m\u001b[0mstring\u001b[0m\u001b[1;33m.\u001b[0m\u001b[0mindex\u001b[0m\u001b[1;33m(\u001b[0m\u001b[1;34m'e'\u001b[0m\u001b[1;33m)\u001b[0m\u001b[1;33m)\u001b[0m\u001b[1;33m\u001b[0m\u001b[1;33m\u001b[0m\u001b[0m\n\u001b[0;32m      6\u001b[0m \u001b[0mprint\u001b[0m\u001b[1;33m(\u001b[0m\u001b[0mstring\u001b[0m\u001b[1;33m.\u001b[0m\u001b[0mindex\u001b[0m\u001b[1;33m(\u001b[0m\u001b[1;34m'We'\u001b[0m\u001b[1;33m)\u001b[0m\u001b[1;33m)\u001b[0m\u001b[1;33m\u001b[0m\u001b[1;33m\u001b[0m\u001b[0m\n\u001b[1;32m----> 7\u001b[1;33m \u001b[0mprint\u001b[0m\u001b[1;33m(\u001b[0m\u001b[0mstring\u001b[0m\u001b[1;33m.\u001b[0m\u001b[0mindex\u001b[0m\u001b[1;33m(\u001b[0m\u001b[1;34m'we'\u001b[0m\u001b[1;33m)\u001b[0m\u001b[1;33m)\u001b[0m \u001b[1;31m# 에러\u001b[0m\u001b[1;33m\u001b[0m\u001b[1;33m\u001b[0m\u001b[0m\n\u001b[0m",
      "\u001b[1;31mValueError\u001b[0m: substring not found"
     ]
    }
   ],
   "source": [
    "string = 'We are the champions, My friends!'\n",
    "# index() 메소드는 인수로 지정된 문자열이 최초로 출현하는 인덱스를 얻어온다.\n",
    "# index() 메소드는 인수로 지정된 문자열이 특정 문자열에 포함되어있나 알 수 있다. => 결과가 0이상이면 포함\n",
    "# index() 메소드는 인수로 지정한 문자열이 특정 문자열에 포함되어있지 않을 경우 에러가 발생된다.\n",
    "print(string.index('e'))\n",
    "print(string.index('We'))\n",
    "print(string.index('we')) # 에러"
   ]
  },
  {
   "cell_type": "code",
   "execution_count": 12,
   "id": "2e78e5d8",
   "metadata": {},
   "outputs": [
    {
     "name": "stdout",
     "output_type": "stream",
     "text": [
      "1\n",
      "0\n",
      "-1\n"
     ]
    }
   ],
   "source": [
    "string = 'We are the champions, My friends!'\n",
    "# find() 메소드는 인수로 지정된 문자열이 최초로 출현하는 인덱스를 얻어온다.\n",
    "# find() 메소드는 인수로 지정된 문자열이 특정 문자열에 포함되어있나 알 수 있다. => 결과가 0이상이면 포함\n",
    "# find() 메소드는 인수로 지정한 문자열이 특정 문자열에 포함되어있지 않을 경우 -1이 리턴된다. => 결과가 -1이면 불포함\n",
    "print(string.find('e'))\n",
    "print(string.find('We'))\n",
    "print(string.find('we'))"
   ]
  },
  {
   "cell_type": "code",
   "execution_count": 17,
   "id": "3de57d0f",
   "metadata": {},
   "outputs": [
    {
     "name": "stdout",
     "output_type": "stream",
     "text": [
      "K/o/r/e/a/I/T\n",
      "K^^;o^^;r^^;e^^;a^^;I^^;T\n",
      "K~(^^!)o~(^^!)r~(^^!)e~(^^!)a~(^^!)I~(^^!)T\n",
      "K o r e a I T\n"
     ]
    }
   ],
   "source": [
    "string = 'KoreaIT'\n",
    "# join() 메소드는 인수로 지정된 문자열을 특정 문자열 사이사이에 삽입한다.\n",
    "print('/'.join(string))\n",
    "print('^^;'.join(string))\n",
    "print('~(^^!)'.join(string))\n",
    "print(' '.join(string))"
   ]
  },
  {
   "cell_type": "code",
   "execution_count": 19,
   "id": "3bffbcc6",
   "metadata": {},
   "outputs": [
    {
     "name": "stdout",
     "output_type": "stream",
     "text": [
      "KOREAIT\n",
      "koreait\n"
     ]
    }
   ],
   "source": [
    "string = 'KoreaIT'\n",
    "# upper() 메소드는 문자열을 무조건 대문자로 변환하고 lower() 메소드는 문자열을 무조건 소문자로 변환한다.\n",
    "print(string.upper())\n",
    "print(string.lower())"
   ]
  },
  {
   "cell_type": "code",
   "execution_count": 25,
   "id": "82b9e8a8",
   "metadata": {},
   "outputs": [
    {
     "name": "stdout",
     "output_type": "stream",
     "text": [
      "15\n",
      "    KoreaIT    \n",
      "KoreaIT    \n",
      "    KoreaIT\n",
      "KoreaIT\n"
     ]
    }
   ],
   "source": [
    "string = '    KoreaIT    '\n",
    "print(len(string))\n",
    "print(string)\n",
    "# lstrip() 메소드는 문자열 왼쪽(앞)의 불필요한 공백을 제거한다.\n",
    "print(string.lstrip())\n",
    "# rstrip() 메소드는 문자열 오른쪽(뒤)의 불필요한 공백을 제거한다.\n",
    "print(string.rstrip())\n",
    "# strip() 메소드는 문자열 앞, 뒤의 불필요한 공백을 제거한다.\n",
    "print(string.strip())"
   ]
  },
  {
   "cell_type": "code",
   "execution_count": 27,
   "id": "a5de9c3e",
   "metadata": {},
   "outputs": [
    {
     "name": "stdout",
     "output_type": "stream",
     "text": [
      "We are the champions, Your friends!\n",
      "W뷁 ar뷁 th뷁 champions, My fri뷁nds!\n"
     ]
    }
   ],
   "source": [
    "string = 'We are the champions, My friends!'\n",
    "# replace(oldString, newString) 메소드는 문자열의 모든 oldString을 newString으로 치환한다.\n",
    "print(string.replace('My', 'Your'))\n",
    "print(string.replace('e', '뷁'))"
   ]
  },
  {
   "cell_type": "code",
   "execution_count": 37,
   "id": "cd0f05af",
   "metadata": {},
   "outputs": [
    {
     "name": "stdout",
     "output_type": "stream",
     "text": [
      "['We', 'are', 'the', 'champions,', 'My', 'friends!']\n",
      "<class 'list'>\n",
      "['We are the champions', ' My friends!']\n"
     ]
    }
   ],
   "source": [
    "string = 'We are the champions, My friends!'\n",
    "# split() 메소드는 문자열을 인수로 지정된 구분자를 이용해서 나눈다. => split() 메소드의 실행 결과는 list 타입으로 리턴된다.\n",
    "print(string.split()) # 구분자를 생략하면 공백이 기본 구분자로 사용된다.\n",
    "print(type(string.split()))\n",
    "print(string.split(','))"
   ]
  },
  {
   "cell_type": "code",
   "execution_count": 41,
   "id": "f61f7320",
   "metadata": {},
   "outputs": [
    {
     "name": "stdout",
     "output_type": "stream",
     "text": [
      "Python\n",
      "example\n"
     ]
    }
   ],
   "source": [
    "# strip() 메소드의 응용\n",
    "# strip() 메소드는 인수를 생략하면 기본값으로 문자열 양 끝의 공백을 제거한다.\n",
    "print('    Python    '.strip())\n",
    "# strip() 메소드가 꼭 공백만을 제거하는 것은 아니다.\n",
    "# 인수로 지정된 문자가 더 이상 문자열의 양 끝에 나타나지 않을 때 까지 인수로 지정된 문자를 제거한다.\n",
    "# 인수에 입력한 문자의 순서와 제거하는 순서는 아무런 상관이 없다.\n",
    "print('www.example.com'.strip('w.com'))"
   ]
  },
  {
   "cell_type": "markdown",
   "id": "788165c7",
   "metadata": {},
   "source": [
    "파이썬 공백 처리 방법"
   ]
  },
  {
   "cell_type": "code",
   "execution_count": 43,
   "id": "9619e0e2",
   "metadata": {},
   "outputs": [
    {
     "name": "stdout",
     "output_type": "stream",
     "text": [
      "                               hello                         python                           \n",
      "hello                         python\n"
     ]
    }
   ],
   "source": [
    "string = '                               hello                         python                           '\n",
    "print(string)\n",
    "print(string.strip())"
   ]
  },
  {
   "cell_type": "code",
   "execution_count": 44,
   "id": "aa784bbb",
   "metadata": {},
   "outputs": [
    {
     "name": "stdout",
     "output_type": "stream",
     "text": [
      "hellopython\n"
     ]
    }
   ],
   "source": [
    "# replace() 메소드를 사용해서 단어 사이의 공백을 제거할 수 있다. => 띄어쓰기가 안된다.\n",
    "print(string.replace(' ', ''))"
   ]
  },
  {
   "cell_type": "code",
   "execution_count": 46,
   "id": "2f23e79b",
   "metadata": {},
   "outputs": [
    {
     "name": "stdout",
     "output_type": "stream",
     "text": [
      "['hello', 'python']\n",
      "hello python\n"
     ]
    }
   ],
   "source": [
    "# split(), join() 메소드를 사용해서 문자열 앞, 뒤의 모든 빈 칸을 제거하고 문자열 사이에 2칸 이상 띄어쓰기를 한 곳은 1칸만\n",
    "# 띄어쓰기가 되게 할 수 있다.\n",
    "print(string.split())\n",
    "print(' '.join(string.split()))"
   ]
  },
  {
   "cell_type": "code",
   "execution_count": null,
   "id": "0c2aee5b",
   "metadata": {},
   "outputs": [],
   "source": []
  },
  {
   "cell_type": "code",
   "execution_count": null,
   "id": "fbc9090c",
   "metadata": {},
   "outputs": [],
   "source": []
  },
  {
   "cell_type": "code",
   "execution_count": null,
   "id": "b7924d89",
   "metadata": {},
   "outputs": [],
   "source": []
  },
  {
   "cell_type": "code",
   "execution_count": null,
   "id": "05a59808",
   "metadata": {},
   "outputs": [],
   "source": []
  },
  {
   "cell_type": "code",
   "execution_count": null,
   "id": "c36ba398",
   "metadata": {},
   "outputs": [],
   "source": []
  },
  {
   "cell_type": "code",
   "execution_count": null,
   "id": "055b8039",
   "metadata": {},
   "outputs": [],
   "source": []
  }
 ],
 "metadata": {
  "kernelspec": {
   "display_name": "Python 3 (ipykernel)",
   "language": "python",
   "name": "python3"
  },
  "language_info": {
   "codemirror_mode": {
    "name": "ipython",
    "version": 3
   },
   "file_extension": ".py",
   "mimetype": "text/x-python",
   "name": "python",
   "nbconvert_exporter": "python",
   "pygments_lexer": "ipython3",
   "version": "3.9.6"
  }
 },
 "nbformat": 4,
 "nbformat_minor": 5
}
