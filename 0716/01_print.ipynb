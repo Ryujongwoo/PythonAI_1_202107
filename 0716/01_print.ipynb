{
 "cells": [
  {
   "cell_type": "code",
   "execution_count": 2,
   "id": "ef9f54a6",
   "metadata": {},
   "outputs": [
    {
     "data": {
      "image/png": "[encoded data removed]",
      "text/plain": [
       "<IPython.core.display.Image object>"
      ]
     },
     "execution_count": 2,
     "metadata": {
      "image/png": {
       "width": "1300"
      }
     },
     "output_type": "execute_result"
    }
   ],
   "source": [
    "from IPython.display import Image\n",
    "Image('./pythonBasic.png', width='1300')"
   ]
  },
  {
   "cell_type": "code",
   "execution_count": 20,
   "id": "b02080af",
   "metadata": {},
   "outputs": [],
   "source": [
    "# '#'으로 시작하면 1줄 주석을 의미한다. => 컴파일러(번역)나 인터프리터(통역, 대화형)가 번역하지 않는다. => 프로그램 실행과\n",
    "# 아무런 상관이 없다. => 설명\n",
    "# 알아두면 유용한 jupyter notebook 단축키\n",
    "# ctrl + enter => 프로그램 실행, 프로그램을 실행한 셀에 커서가 위치한다.\n",
    "# shift + enter => 프로그램 실행, 프로그램을 실행하고 커서가 다음 셀로 이동한다.\n",
    "# 셀 선택 상태에서 a를 누르면 선택된 셀 앞에 빈 셀이 삽입된다.\n",
    "# 셀 선택 상태에서 b를 누르면 선택된 셀 뒤에 빈 셀이 삽입된다.\n",
    "# 셀 선택 상태에서 dd를 누르면 선택된 셀이 삭제된다. => 삭제한 셀은 복구할 수 없다.\n",
    "# tab 키가 자동완성 키로 사용된다."
   ]
  },
  {
   "cell_type": "code",
   "execution_count": 27,
   "id": "93939c9d",
   "metadata": {},
   "outputs": [
    {
     "name": "stdout",
     "output_type": "stream",
     "text": [
      "Hello Python\n",
      "안녕 파이썬\n",
      "제2외국어를 배운 호랑이가 \"야옹\" 했습니다.\n",
      "제2외국어를 배운 고양이가 '어흥' 했습니다.\n",
      "제2외국어를 배운 호랑이가 '야옹' 했습니다.\n",
      "제2외국어를 배운 고양이가 \"어흥\" 했습니다.\n"
     ]
    }
   ],
   "source": [
    "# print() 함수는 ()안의 데이터를 출력하고 줄을 바꾼다.\n",
    "# 파이썬은 문자열 데이터를 표현할 때 데이터를 따옴표로 묶어준다. => 큰따옴표와 작은따옴표를 구분하지 않는다.\n",
    "print('Hello Python')\n",
    "print(\"안녕 파이썬\")\n",
    "print('제2외국어를 배운 호랑이가 \"야옹\" 했습니다.')\n",
    "print(\"제2외국어를 배운 고양이가 '어흥' 했습니다.\")\n",
    "print('제2외국어를 배운 호랑이가 \\'야옹\\' 했습니다.')\n",
    "print(\"제2외국어를 배운 고양이가 \\\"어흥\\\" 했습니다.\")"
   ]
  },
  {
   "cell_type": "code",
   "execution_count": 34,
   "id": "8ea48886",
   "metadata": {},
   "outputs": [
    {
     "name": "stdout",
     "output_type": "stream",
     "text": [
      "Hello Python 안녕 \n",
      "파이썬\n"
     ]
    }
   ],
   "source": [
    "# print() 함수로 출력 후 줄을 변경하지 않으려면 end 옵션을 사용하면 된다.\n",
    "# end 옵현은 print() 함수로 ()안의 내용을 출력한 후 출력할 내용을 지정한다. => end 옵션을 생략하면 end='\\n'이 기본값으로\n",
    "# 사용된다.\n",
    "# \\n => new line => 줄바꿈\n",
    "# print('Hello Python')와 print('Hello Python', end='\\n')는 같은 표현이다.\n",
    "print('Hello Python', end=' ')\n",
    "print(\"안녕 \\n파이썬\")"
   ]
  },
  {
   "cell_type": "code",
   "execution_count": 37,
   "id": "465e8792",
   "metadata": {},
   "outputs": [
    {
     "name": "stdout",
     "output_type": "stream",
     "text": [
      "Hello Python 안녕 파이썬\n",
      "Hello Python 안녕 파이썬\n",
      "Hello Python~(^^~)안녕 파이썬\n"
     ]
    }
   ],
   "source": [
    "# print() 함수로 2개 이상의 데이터를 출력하려면 ','로 데이터를 구분하면 된다.\n",
    "print('Hello Python', \"안녕 파이썬\")\n",
    "# ','로 데이터를 구분하면 sep 옵션으로 지정한 내용이 데이터와 데이터 사이에 삽입되서 출력된다. => sep 옵션을 생략하면 공백이\n",
    "# 기본값으로 사용된다.\n",
    "# print('Hello Python', \"안녕 파이썬\")와 print('Hello Python', \"안녕 파이썬\", sep=' ')는 같은 표현이다.\n",
    "print('Hello Python', \"안녕 파이썬\", sep=' ')\n",
    "print('Hello Python', \"안녕 파이썬\", sep='~(^^~)')"
   ]
  },
  {
   "cell_type": "code",
   "execution_count": 41,
   "id": "1bb100cb",
   "metadata": {},
   "outputs": [
    {
     "name": "stdout",
     "output_type": "stream",
     "text": [
      "8\n",
      "AB\n"
     ]
    },
    {
     "ename": "TypeError",
     "evalue": "unsupported operand type(s) for +: 'int' and 'str'",
     "output_type": "error",
     "traceback": [
      "\u001b[1;31m---------------------------------------------------------------------------\u001b[0m",
      "\u001b[1;31mTypeError\u001b[0m                                 Traceback (most recent call last)",
      "\u001b[1;32mC:\\Users\\Public\\Documents\\ESTsoft\\CreatorTemp/ipykernel_14716/933559509.py\u001b[0m in \u001b[0;36m<module>\u001b[1;34m\u001b[0m\n\u001b[0;32m      4\u001b[0m \u001b[0mprint\u001b[0m\u001b[1;33m(\u001b[0m\u001b[1;36m5\u001b[0m \u001b[1;33m+\u001b[0m \u001b[1;36m3\u001b[0m\u001b[1;33m)\u001b[0m\u001b[1;33m\u001b[0m\u001b[1;33m\u001b[0m\u001b[0m\n\u001b[0;32m      5\u001b[0m \u001b[0mprint\u001b[0m\u001b[1;33m(\u001b[0m\u001b[1;34m'A'\u001b[0m \u001b[1;33m+\u001b[0m \u001b[1;34m'B'\u001b[0m\u001b[1;33m)\u001b[0m\u001b[1;33m\u001b[0m\u001b[1;33m\u001b[0m\u001b[0m\n\u001b[1;32m----> 6\u001b[1;33m \u001b[0mprint\u001b[0m\u001b[1;33m(\u001b[0m\u001b[1;36m3\u001b[0m \u001b[1;33m+\u001b[0m \u001b[1;34m'A'\u001b[0m\u001b[1;33m)\u001b[0m\u001b[1;33m\u001b[0m\u001b[1;33m\u001b[0m\u001b[0m\n\u001b[0m",
      "\u001b[1;31mTypeError\u001b[0m: unsupported operand type(s) for +: 'int' and 'str'"
     ]
    }
   ],
   "source": [
    "# print() 함수로 2개의 문자열을 연결해서 출력하려면 '+' 연산자를 사용한다.\n",
    "# '+' 연산자가 숫자와 숫자 사이에서 사용되면 뎃셈이 실행되지만 문자열과 문자열 사이에서 사용되면 2개의 문자열을 연결하는\n",
    "# 연결 연산자로 사용된다. => 숫자와 문자열 또는 문자열과 숫자 사이에서 사용하면 에러가 발생된다.\n",
    "print(5 + 3)\n",
    "print('A' + 'B')\n",
    "print(3 + 'A')"
   ]
  },
  {
   "cell_type": "code",
   "execution_count": 44,
   "id": "507fbe33",
   "metadata": {},
   "outputs": [
    {
     "name": "stdout",
     "output_type": "stream",
     "text": [
      "================================================================================\n",
      "~(^^!)~(^^!)~(^^!)~(^^!)~(^^!)~(^^!)~(^^!)~(^^!)~(^^!)~(^^!)\n"
     ]
    }
   ],
   "source": [
    "# print() 함수로 특정 문자열을 지정한 개수만큼 반복해서 출력하려면 '*' 연산자를 사용한다.\n",
    "print('=' * 80)\n",
    "print('~(^^!)' * 10)"
   ]
  },
  {
   "cell_type": "markdown",
   "id": "5351dca3",
   "metadata": {},
   "source": [
    "'%'와 서식 문자를 사용해서 출력하기"
   ]
  },
  {
   "cell_type": "code",
   "execution_count": null,
   "id": "52a1e064",
   "metadata": {},
   "outputs": [],
   "source": [
    "# 서식 문자\n",
    "# d(정수), f(실수), s(문자열)를 '%'와 같이 사용해서 출력 서식을 지정할 수 있다.\n",
    "# 출력 서식 문자를 제외한 나머지 문자는 입력한 그대로 출력된다.\n",
    "# 출력 서식의 형식\n",
    "# %[-][0][n][.m]서식문자 => [] 안의 내용은 생략할 수 있다. => 필요하면 사용한다.\n",
    "# n:  출력할 전체 자리수\n",
    "# -:  출력할 자리수가 지정된 경우 데이터를 왼쪽에 맞춰 출력한다.\n",
    "# 0:  출력할 자리수가 지정된 경우 왼쪽의 남는 자리를 공백대신 '0'으로 채워서 출력한다.\n",
    "# .m: 소수점 아래 자리수"
   ]
  },
  {
   "cell_type": "code",
   "execution_count": 3,
   "id": "357774c3",
   "metadata": {},
   "outputs": [
    {
     "name": "stdout",
     "output_type": "stream",
     "text": [
      "100\n",
      "1\n",
      "10000\n"
     ]
    }
   ],
   "source": [
    "print(100)\n",
    "print(1)\n",
    "print(10000)"
   ]
  },
  {
   "cell_type": "code",
   "execution_count": 7,
   "id": "7ab935e5",
   "metadata": {},
   "outputs": [
    {
     "name": "stdout",
     "output_type": "stream",
     "text": [
      "  100\n",
      "    1\n",
      "1    \n",
      "00001\n",
      "10000\n"
     ]
    }
   ],
   "source": [
    "# print('출력 서식' % 출력할 데이터)\n",
    "print('%5d' % 100)\n",
    "print('%5d' % 1)\n",
    "print('%-5d' % 1)\n",
    "print('%05d' % 1)\n",
    "print('%5d' % 10000)"
   ]
  },
  {
   "cell_type": "code",
   "execution_count": 8,
   "id": "1a756a8a",
   "metadata": {},
   "outputs": [
    {
     "name": "stdout",
     "output_type": "stream",
     "text": [
      "abc\n",
      "a\n",
      "abcde\n"
     ]
    }
   ],
   "source": [
    "print('abc')\n",
    "print('a')\n",
    "print('abcde')"
   ]
  },
  {
   "cell_type": "code",
   "execution_count": 12,
   "id": "9621b45d",
   "metadata": {},
   "outputs": [
    {
     "name": "stdout",
     "output_type": "stream",
     "text": [
      "  abc\n",
      "    a\n",
      "a    \n",
      "    a\n",
      "abcde\n"
     ]
    }
   ],
   "source": [
    "print('%5s' % 'abc')\n",
    "print('%5s' % 'a')\n",
    "print('%-5s' % 'a')\n",
    "print('%05s' % 'a') # 파이썬은 문자열 서식에서 '0'이 무시된다.\n",
    "print('%5s' % 'abcde')"
   ]
  },
  {
   "cell_type": "code",
   "execution_count": 14,
   "id": "c68c1527",
   "metadata": {},
   "outputs": [
    {
     "name": "stdout",
     "output_type": "stream",
     "text": [
      "123.45\n",
      "123.40\n",
      "123.46\n"
     ]
    }
   ],
   "source": [
    "print('%6.2f' % 123.45)\n",
    "print('%6.2f' % 123.4)   # 소수점 아래 남는 자리는 '0'이 채워져서 출력된다.\n",
    "print('%6.2f' % 123.456) # 소수점 아래 잘리는 자리에서 반올림시켜 출력한다. => 실제 데이터는 변경되지 않는다."
   ]
  },
  {
   "cell_type": "code",
   "execution_count": 26,
   "id": "5ff3164e",
   "metadata": {},
   "outputs": [
    {
     "name": "stdout",
     "output_type": "stream",
     "text": [
      "5 + 3 = 8\n",
      "5 - 3 = 2\n",
      "5 * 3 = 15\n",
      "5 / 3 = 1\n",
      "5 / 3 = 1.666667\n",
      "5 // 3 = 1\n",
      "5 // 3 = 1.000000\n",
      "5 % 3 = 2.000000\n",
      "2의 10승 = 1024\n",
      "루트 2의 = 1.414214\n"
     ]
    }
   ],
   "source": [
    "# 출력 서식에 맞춰서 출력할 데이터가 2건 이상이라면 '%' 뒤의 출력할 데이터를 반드시 ()로 묶어야 한다.\n",
    "print('%d + %d = %d' % (5, 3, 5 + 3)) # 덧셈\n",
    "print('%d - %d = %d' % (5, 3, 5 - 3)) # 뺄셈\n",
    "print('%d * %d = %d' % (5, 3, 5 * 3)) # 곱셈\n",
    "# 파이썬은 '/' 연산자로 나눗셈을 하면 소수점 아래까지 계산된다.\n",
    "print('%d / %d = %d' % (5, 3, 5 / 3)) # 나눗셈, 나눗셈 결과를 %d 서식을 사용해서 정수로 출력하라했으므로 1만 출력된다.\n",
    "print('%d / %d = %f' % (5, 3, 5 / 3))\n",
    "# 파이썬은 '//' 연산자로 나눗셈을 하면 몫만 계산된다.\n",
    "print('%d // %d = %d' % (5, 3, 5 // 3)) # 나눗셈\n",
    "print('%d // %d = %f' % (5, 3, 5 // 3))\n",
    "# '%'를 사용해서 출력 서식을 지정하는 경우 '%' 문자 자체를 출력하고 싶다면 '%%'처럼 2개를 연속해서 써야한다.\n",
    "print('%d %% %d = %f' % (5, 3, 5 % 3)) # 나머지\n",
    "print('%d의 %d승 = %d' % (2, 10, 2 ** 10)) # 거듭제곱\n",
    "print('루트 %d의 = %f' % (2, 2 ** 0.5)) # 제곱근"
   ]
  },
  {
   "cell_type": "markdown",
   "id": "b6788a5b",
   "metadata": {},
   "source": [
    "산술 연산자 우선순위: () 안의 수식 => ** => *, /, //, % => +, -"
   ]
  },
  {
   "cell_type": "markdown",
   "id": "7df17b81",
   "metadata": {},
   "source": [
    "문자열 출력 서식을 지정하는 format() 메소드와 {}를 사용해서 출력하기"
   ]
  },
  {
   "cell_type": "code",
   "execution_count": 36,
   "id": "2dcd00e2",
   "metadata": {},
   "outputs": [
    {
     "name": "stdout",
     "output_type": "stream",
     "text": [
      "5 + 3 = 8\n",
      "5 + 3 = 8\n",
      "5 - 3 = 2\n",
      "5 * 3 = 15\n",
      "5 / 3 = 1.6666666666666667\n",
      "5 // 3 = 1\n",
      "5 % 3 = 2\n",
      "2의 20승 = 1048576\n",
      "루트 5의 = 2.23606797749979\n"
     ]
    }
   ],
   "source": [
    "print('%d + %d = %d' % (5, 3, 5 + 3))\n",
    "print('{} + {} = {}'.format(5, 3, 5 + 3))\n",
    "print('{} - {} = {}'.format(5, 3, 5 - 3))\n",
    "print('{} * {} = {}'.format(5, 3, 5 * 3))\n",
    "print('{} / {} = {}'.format(5, 3, 5 / 3))\n",
    "print('{} // {} = {}'.format(5, 3, 5 // 3))\n",
    "print('{} % {} = {}'.format(5, 3, 5 % 3))\n",
    "print('{}의 {}승 = {}'.format(2, 20, 2 ** 20))\n",
    "print('루트 {}의 = {}'.format(5, 5 ** 0.5))"
   ]
  },
  {
   "cell_type": "markdown",
   "id": "bfc0c9f0",
   "metadata": {},
   "source": [
    "{}와 인덱스를 이용해 출력하기 => 인덱스는 0부터 시작된다."
   ]
  },
  {
   "cell_type": "code",
   "execution_count": 39,
   "id": "cd33f880",
   "metadata": {},
   "outputs": [
    {
     "name": "stdout",
     "output_type": "stream",
     "text": [
      "홍길동 바보\n",
      "홍길동\n"
     ]
    }
   ],
   "source": [
    "print('{} {}'.format('홍길동', '바보'))\n",
    "# 인덱스를 지정하지 않은 상태에서 {}의 개수가 출력할 데이터의 개수보다 많으면 에러가 발생된다.\n",
    "# print('{} {} {}'.format('홍길동', '바보')) # 에러\n",
    "# 인덱스를 지정하지 않은 상태에서 {}의 개수가 출력할 데이터의 개수보다 적을 경우 남는 데이터는 무시된다.\n",
    "print('{}'.format('홍길동', '바보'))"
   ]
  },
  {
   "cell_type": "code",
   "execution_count": 45,
   "id": "a5be1463",
   "metadata": {},
   "outputs": [
    {
     "name": "stdout",
     "output_type": "stream",
     "text": [
      "홍길동 바보\n",
      "바보 홍길동\n",
      "홍길동 바보 홍길동\n"
     ]
    }
   ],
   "source": [
    "print('{0} {1}'.format('홍길동', '바보'))\n",
    "print('{1} {0}'.format('홍길동', '바보'))\n",
    "# 인덱스가 지정되면 출력할 데이터의 개수와 {}의 개수가 다르더라도 인덱스의 범위만 벗어나지 않으면 정상적으로 출력된다.\n",
    "print('{0} {1} {0}'.format('홍길동', '바보'))\n",
    "# {} 안에 지정한 인덱스가 인덱스의 범위를 벗어나면 에러가 발생된다.\n",
    "# print('{0} {1} {2}'.format('홍길동', '바보')) # 에러\n",
    "# {} 안에 인덱스를 부분적으로 지정하면 {}와 출력할 데이터의 개수가 같더라도 에러가 발생된다.\n",
    "# print('{0} {}'.format('홍길동', '바보')) # 에러"
   ]
  },
  {
   "cell_type": "markdown",
   "id": "f1103c9d",
   "metadata": {},
   "source": [
    "출력 서식과 format() 메소드로 출력할 데이터를 인덱스를 사용해서 출력하기"
   ]
  },
  {
   "cell_type": "code",
   "execution_count": 48,
   "id": "db841b47",
   "metadata": {},
   "outputs": [
    {
     "name": "stdout",
     "output_type": "stream",
     "text": [
      "홍길동님은 20살 입니다.\n",
      "홍길동님은 20살 입니다.\n",
      "홍길동님은 20살 입니다.\n"
     ]
    }
   ],
   "source": [
    "print('%s님은 %d살 입니다.' % ('홍길동', 20))\n",
    "print('{}님은 {}살 입니다.'.format('홍길동', 20))\n",
    "print('{0}님은 {1}살 입니다.'.format('홍길동', 20))"
   ]
  },
  {
   "cell_type": "code",
   "execution_count": 53,
   "id": "0580088c",
   "metadata": {},
   "outputs": [
    {
     "name": "stdout",
     "output_type": "stream",
     "text": [
      "홍길동       님은    20살 입니다.\n",
      "홍길동       님은 2,000,000살 입니다.\n",
      "홍길동       님은 20.46살 입니다.\n"
     ]
    }
   ],
   "source": [
    "# {인덱스:출력서식} => 출력 서식 앞에 '%'를 붙이지 않는다.\n",
    "print('{0:10s}님은 {1:5d}살 입니다.'.format('홍길동', 20))\n",
    "print('{0:10s}님은 {1:7,d}살 입니다.'.format('홍길동', 2000000)) # 천 단위마다 ','를 출력한다.\n",
    "print('{0:10s}님은 {1:5.2f}살 입니다.'.format('홍길동', 20.456))"
   ]
  },
  {
   "cell_type": "markdown",
   "id": "dc69382d",
   "metadata": {},
   "source": [
    "'<', '>', '^'를 사용해서 문자열 출력시 정렬 방법을 지정할 수 있다. => 생략시 '<'가 기본값으로 사용된다."
   ]
  },
  {
   "cell_type": "code",
   "execution_count": 56,
   "id": "a874e753",
   "metadata": {},
   "outputs": [
    {
     "name": "stdout",
     "output_type": "stream",
     "text": [
      "홍길동       님은    20살 입니다.\n",
      "홍길동       님은    20살 입니다.\n",
      "       홍길동님은    20살 입니다.\n",
      "   홍길동    님은    20살 입니다.\n"
     ]
    }
   ],
   "source": [
    "print('{0:10s}님은 {1:5d}살 입니다.'.format('홍길동', 20))\n",
    "print('{0:<10s}님은 {1:5d}살 입니다.'.format('홍길동', 20))\n",
    "print('{0:>10s}님은 {1:5d}살 입니다.'.format('홍길동', 20))\n",
    "print('{0:^10s}님은 {1:5d}살 입니다.'.format('홍길동', 20))"
   ]
  },
  {
   "cell_type": "markdown",
   "id": "280c5d08",
   "metadata": {},
   "source": [
    "'<', '>', '^'를 사용해서 문자열 출력시 남는 공백에 채워질 채움 문자를 지정할 수 있다."
   ]
  },
  {
   "cell_type": "code",
   "execution_count": 59,
   "id": "fd61418e",
   "metadata": {},
   "outputs": [
    {
     "name": "stdout",
     "output_type": "stream",
     "text": [
      "홍길동_______님은    20살 입니다.\n",
      "#######홍길동님은    20살 입니다.\n",
      "!!!홍길동!!!!님은    20살 입니다.\n"
     ]
    }
   ],
   "source": [
    "print('{0:_<10s}님은 {1:5d}살 입니다.'.format('홍길동', 20))\n",
    "print('{0:#>10s}님은 {1:5d}살 입니다.'.format('홍길동', 20))\n",
    "print('{0:!^10s}님은 {1:5d}살 입니다.'.format('홍길동', 20))"
   ]
  },
  {
   "cell_type": "code",
   "execution_count": null,
   "id": "a3d3b63b",
   "metadata": {},
   "outputs": [],
   "source": []
  },
  {
   "cell_type": "code",
   "execution_count": null,
   "id": "69f649d3",
   "metadata": {},
   "outputs": [],
   "source": []
  }
 ],
 "metadata": {
  "kernelspec": {
   "display_name": "Python 3 (ipykernel)",
   "language": "python",
   "name": "python3"
  },
  "language_info": {
   "codemirror_mode": {
    "name": "ipython",
    "version": 3
   },
   "file_extension": ".py",
   "mimetype": "text/x-python",
   "name": "python",
   "nbconvert_exporter": "python",
   "pygments_lexer": "ipython3",
   "version": "3.9.6"
  }
 },
 "nbformat": 4,
 "nbformat_minor": 5
}
