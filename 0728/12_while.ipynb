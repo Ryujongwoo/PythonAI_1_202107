{
 "cells": [
  {
   "cell_type": "markdown",
   "id": "00754be1",
   "metadata": {},
   "source": [
    "while은 조건이 참인 동안 반복하다가 조건이 거짓이 되는 순간 반복이 종료된다.  \n",
    "while로 진입하는 최초 조건이 거짓일 경우 한 번도 반복을 실행하지 않는다.  \n",
    "for는 반복을 몇 번 해야하는지 아는 경우 사용하고 while은 반복을 하기는 해야겠는데 몇 번 반복 해야하는지 정확히 모를 경우 사용한다.\n",
    "***\n",
    "while 조건식:  \n",
    "&nbsp;&nbsp;&nbsp;&nbsp;조건식이 참일 경우 반복할 문장  \n",
    "&nbsp;&nbsp;&nbsp;&nbsp;..."
   ]
  },
  {
   "cell_type": "code",
   "execution_count": 7,
   "id": "651fcc1e",
   "metadata": {},
   "outputs": [
    {
     "name": "stdout",
     "output_type": "stream",
     "text": [
      "1 ~ 10의 합계: 55\n",
      "1 ~ 10의 합계: 55\n"
     ]
    }
   ],
   "source": [
    "# 1 ~ 10의 합계\n",
    "total = 0\n",
    "for i in range(1, 11, 1): # for는 초기치, 증가치, 최종치가 한 문장에 위치한다.\n",
    "    total += i\n",
    "print('1 ~ 10의 합계: {}'.format(total))\n",
    "\n",
    "i = 0         # 초기치\n",
    "total = 0\n",
    "while i < 10: # 최종치\n",
    "    i += 1    # 증가치\n",
    "    total += i\n",
    "print('1 ~ 10의 합계: {}'.format(total))"
   ]
  },
  {
   "cell_type": "code",
   "execution_count": 13,
   "id": "15524306",
   "metadata": {},
   "outputs": [
    {
     "name": "stdout",
     "output_type": "stream",
     "text": [
      "1\n",
      "2\n",
      "3\n",
      "4\n",
      "5\n",
      "================================================================================\n",
      "1\n",
      "2\n",
      "3\n",
      "4\n",
      "5\n",
      "7\n",
      "8\n",
      "9\n",
      "10\n"
     ]
    }
   ],
   "source": [
    "# while 명령의 조건식이 항상 참이면 무한루프가 된다.\n",
    "# 사용자가 의도적으로 무한루프를 발생시켰다면 반드시 무한루프를 종료하는 처리를 해야한다. => 반복 탈출시 break를 사용한다.\n",
    "# break는 for나 while 같은 반복문의 실행을 중지시킨다.\n",
    "for i in range(1, 11):\n",
    "    if i == 6:\n",
    "        break # 반복 탈출\n",
    "    print(i)\n",
    "print('=' * 80)\n",
    "\n",
    "# break 명령은 break 다음 문장들을 실행하지 않고 반복을 중지하고 continue 명령은 continue 명령 다음 문장들을 실행하지 않고\n",
    "# 계속 반복을 실행한다.\n",
    "for i in range(1, 11):\n",
    "    if i == 6:\n",
    "        continue # 반복 탈출\n",
    "    print(i)"
   ]
  },
  {
   "cell_type": "code",
   "execution_count": null,
   "id": "a1779876",
   "metadata": {},
   "outputs": [],
   "source": []
  },
  {
   "cell_type": "code",
   "execution_count": null,
   "id": "25efe17f",
   "metadata": {},
   "outputs": [],
   "source": []
  },
  {
   "cell_type": "code",
   "execution_count": null,
   "id": "44df78f0",
   "metadata": {},
   "outputs": [],
   "source": []
  },
  {
   "cell_type": "code",
   "execution_count": null,
   "id": "686d11ff",
   "metadata": {},
   "outputs": [],
   "source": []
  },
  {
   "cell_type": "code",
   "execution_count": null,
   "id": "ee5f37de",
   "metadata": {},
   "outputs": [],
   "source": []
  }
 ],
 "metadata": {
  "kernelspec": {
   "display_name": "Python 3 (ipykernel)",
   "language": "python",
   "name": "python3"
  },
  "language_info": {
   "codemirror_mode": {
    "name": "ipython",
    "version": 3
   },
   "file_extension": ".py",
   "mimetype": "text/x-python",
   "name": "python",
   "nbconvert_exporter": "python",
   "pygments_lexer": "ipython3",
   "version": "3.9.6"
  }
 },
 "nbformat": 4,
 "nbformat_minor": 5
}
